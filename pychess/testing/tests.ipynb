{
 "cells": [
  {
   "cell_type": "code",
   "execution_count": 97,
   "metadata": {},
   "outputs": [],
   "source": [
    "from chess.utils import Board"
   ]
  },
  {
   "cell_type": "code",
   "execution_count": 98,
   "metadata": {
    "tags": []
   },
   "outputs": [],
   "source": [
    "board = Board()"
   ]
  },
  {
   "cell_type": "code",
   "execution_count": 99,
   "metadata": {},
   "outputs": [
    {
     "output_type": "execute_result",
     "data": {
      "text/plain": "(2, 6)"
     },
     "metadata": {},
     "execution_count": 99
    }
   ],
   "source": [
    "# translate a chess coordinate\n",
    "# to the internal representation\n",
    "pawn_cord = \"c2\"\n",
    "pawn_cord = board.translate_cord(pawn_cord)\n",
    "pawn_cord"
   ]
  },
  {
   "cell_type": "code",
   "execution_count": 100,
   "metadata": {
    "tags": []
   },
   "outputs": [
    {
     "output_type": "stream",
     "name": "stdout",
     "text": "['♖', '♘', '%', '♕', '♔', '♗', '♘', '♖']\n['♙', '♙', '♙', '♙', '♙', '♙', '♙', '♙']\n['%', '%', '%', '%', '%', '%', '%', '%']\n['%', '%', '%', '%', '%', '%', '%', '%']\n['⊡', '⊡', '⊡', '⊡', '⊡', '⊡', '⊡', '⊡']\n['⊡', '⊡', '⊡', '⊡', '⊡', '⊡', '⊡', '⊡']\n['♟︎', '♟︎', '♟︎', '♟︎', '♟︎', '♟︎', '♟︎', '♟︎']\n['♜', '♞', '♝', '♛', '♚', '♝', '♞', '♜']\n\n"
    }
   ],
   "source": [
    "board.print(show_attacked=True)"
   ]
  },
  {
   "cell_type": "code",
   "execution_count": 101,
   "metadata": {
    "tags": []
   },
   "outputs": [
    {
     "output_type": "stream",
     "name": "stdout",
     "text": "Source: ♟︎\nSource moves: [(2, 5), (2, 4)]\n['♖', '♘', '♗', '♕', '♔', '♗', '♘', '♖']\n['♙', '♙', '♙', '♙', '♙', '♙', '♙', '♙']\n['⊡', '⊡', '⊡', '⊡', '⊡', '⊡', '⊡', '⊡']\n['⊡', '⊡', '⊡', '⊡', '⊡', '⊡', '⊡', '⊡']\n['⊡', '⊡', '⛝', '⊡', '⊡', '⊡', '⊡', '⊡']\n['⊡', '⊡', '⛝', '⊡', '⊡', '⊡', '⊡', '⊡']\n['♟︎', '♟︎', '♟︎', '♟︎', '♟︎', '♟︎', '♟︎', '♟︎']\n['♜', '♞', '♝', '♛', '♚', '♝', '♞', '♜']\n\n"
    },
    {
     "output_type": "execute_result",
     "data": {
      "text/plain": "'ongoing'"
     },
     "metadata": {},
     "execution_count": 101
    }
   ],
   "source": [
    "# look at the valid moves\n",
    "# of the pawn\n",
    "board(pawn_cord)"
   ]
  },
  {
   "cell_type": "code",
   "execution_count": 102,
   "metadata": {},
   "outputs": [
    {
     "output_type": "execute_result",
     "data": {
      "text/plain": "(3, 7)"
     },
     "metadata": {},
     "execution_count": 102
    }
   ],
   "source": [
    "# translate a chess coordinate\n",
    "# to the internal representation\n",
    "queen_cord = \"d1\"\n",
    "queen_cord = board.translate_cord(queen_cord)\n",
    "queen_cord"
   ]
  },
  {
   "cell_type": "code",
   "execution_count": 103,
   "metadata": {
    "tags": []
   },
   "outputs": [
    {
     "output_type": "stream",
     "name": "stdout",
     "text": "Source: ♛\nSource moves: []\n['♖', '♘', '♗', '♕', '♔', '♗', '♘', '♖']\n['♙', '♙', '♙', '♙', '♙', '♙', '♙', '♙']\n['⊡', '⊡', '⊡', '⊡', '⊡', '⊡', '⊡', '⊡']\n['⊡', '⊡', '⊡', '⊡', '⊡', '⊡', '⊡', '⊡']\n['⊡', '⊡', '⊡', '⊡', '⊡', '⊡', '⊡', '⊡']\n['⊡', '⊡', '⊡', '⊡', '⊡', '⊡', '⊡', '⊡']\n['♟︎', '♟︎', '♟︎', '♟︎', '♟︎', '♟︎', '♟︎', '♟︎']\n['♜', '♞', '♝', '♛', '♚', '♝', '♞', '♜']\n\n"
    },
    {
     "output_type": "execute_result",
     "data": {
      "text/plain": "'ongoing'"
     },
     "metadata": {},
     "execution_count": 103
    }
   ],
   "source": [
    "# look at the valid moves\n",
    "# of the queen\n",
    "board(queen_cord)"
   ]
  },
  {
   "cell_type": "code",
   "execution_count": 104,
   "metadata": {},
   "outputs": [
    {
     "output_type": "execute_result",
     "data": {
      "text/plain": "(2, 4)"
     },
     "metadata": {},
     "execution_count": 104
    }
   ],
   "source": [
    "# translate a chess coordinate\n",
    "# to the internal representation\n",
    "move_cord = \"c4\"\n",
    "move_cord = board.translate_cord(move_cord)\n",
    "move_cord"
   ]
  },
  {
   "cell_type": "code",
   "execution_count": 105,
   "metadata": {
    "tags": []
   },
   "outputs": [
    {
     "output_type": "stream",
     "name": "stdout",
     "text": "Source: ♟︎   Target: ⊡\nSource moves: [(2, 5), (2, 4)] \nCompanion moves: []\n\n['♖', '♘', '♗', '♕', '♔', '♗', '♘', '♖']\n['♙', '♙', '♙', '♙', '♙', '♙', '♙', '♙']\n['⊡', '⊡', '⊡', '⊡', '⊡', '⊡', '⊡', '⊡']\n['⊡', '⊡', '⊡', '⊡', '⊡', '⊡', '⊡', '⊡']\n['⊡', '⊡', '♟︎', '⊡', '⊡', '⊡', '⊡', '⊡']\n['⊡', '⊡', '⊡', '⊡', '⊡', '⊡', '⊡', '⊡']\n['♟︎', '♟︎', '⊡', '♟︎', '♟︎', '♟︎', '♟︎', '♟︎']\n['♜', '♞', '♝', '♛', '♚', '♝', '♞', '♜']\n\n"
    },
    {
     "output_type": "execute_result",
     "data": {
      "text/plain": "'ongoing'"
     },
     "metadata": {},
     "execution_count": 105
    }
   ],
   "source": [
    "# move the pawn\n",
    "board(pawn_cord, move_cord)"
   ]
  },
  {
   "cell_type": "code",
   "execution_count": 106,
   "metadata": {},
   "outputs": [
    {
     "output_type": "execute_result",
     "data": {
      "text/plain": "(3, 1)"
     },
     "metadata": {},
     "execution_count": 106
    }
   ],
   "source": [
    "# translate a chess coordinate\n",
    "# to the internal representation\n",
    "pawn_cord = \"d7\"\n",
    "pawn_cord = board.translate_cord(pawn_cord)\n",
    "pawn_cord"
   ]
  },
  {
   "cell_type": "code",
   "execution_count": 107,
   "metadata": {
    "tags": []
   },
   "outputs": [
    {
     "output_type": "stream",
     "name": "stdout",
     "text": "Source: ♙\nSource moves: [(3, 2), (3, 3)]\n['♖', '♘', '♗', '♕', '♔', '♗', '♘', '♖']\n['♙', '♙', '♙', '♙', '♙', '♙', '♙', '♙']\n['⊡', '⊡', '⊡', '⛝', '⊡', '⊡', '⊡', '⊡']\n['⊡', '⊡', '⊡', '⛝', '⊡', '⊡', '⊡', '⊡']\n['⊡', '⊡', '♟︎', '⊡', '⊡', '⊡', '⊡', '⊡']\n['⊡', '⊡', '⊡', '⊡', '⊡', '⊡', '⊡', '⊡']\n['♟︎', '♟︎', '⊡', '♟︎', '♟︎', '♟︎', '♟︎', '♟︎']\n['♜', '♞', '♝', '♛', '♚', '♝', '♞', '♜']\n\n"
    },
    {
     "output_type": "execute_result",
     "data": {
      "text/plain": "'ongoing'"
     },
     "metadata": {},
     "execution_count": 107
    }
   ],
   "source": [
    "board(pawn_cord)"
   ]
  },
  {
   "cell_type": "code",
   "execution_count": 108,
   "metadata": {},
   "outputs": [
    {
     "output_type": "execute_result",
     "data": {
      "text/plain": "(3, 3)"
     },
     "metadata": {},
     "execution_count": 108
    }
   ],
   "source": [
    "# translate a chess coordinate\n",
    "# to the internal representation\n",
    "move_cord = \"d5\"\n",
    "move_cord = board.translate_cord(move_cord)\n",
    "move_cord"
   ]
  },
  {
   "cell_type": "code",
   "execution_count": 109,
   "metadata": {
    "tags": []
   },
   "outputs": [
    {
     "output_type": "stream",
     "name": "stdout",
     "text": "Source: ♙   Target: ⊡\nSource moves: [(3, 2), (3, 3)] \nCompanion moves: []\n\n['♖', '♘', '♗', '♕', '♔', '♗', '♘', '♖']\n['♙', '♙', '♙', '⊡', '♙', '♙', '♙', '♙']\n['⊡', '⊡', '⊡', '⊡', '⊡', '⊡', '⊡', '⊡']\n['⊡', '⊡', '⊡', '♙', '⊡', '⊡', '⊡', '⊡']\n['⊡', '⊡', '♟︎', '⊡', '⊡', '⊡', '⊡', '⊡']\n['⊡', '⊡', '⊡', '⊡', '⊡', '⊡', '⊡', '⊡']\n['♟︎', '♟︎', '⊡', '♟︎', '♟︎', '♟︎', '♟︎', '♟︎']\n['♜', '♞', '♝', '♛', '♚', '♝', '♞', '♜']\n\n"
    },
    {
     "output_type": "execute_result",
     "data": {
      "text/plain": "'ongoing'"
     },
     "metadata": {},
     "execution_count": 109
    }
   ],
   "source": [
    "board(pawn_cord, move_cord)"
   ]
  },
  {
   "cell_type": "code",
   "execution_count": 110,
   "metadata": {
    "tags": []
   },
   "outputs": [
    {
     "output_type": "stream",
     "name": "stdout",
     "text": "Source: ♛\nSource moves: [(2, 6), (1, 5), (0, 4)]\n['♖', '♘', '♗', '♕', '♔', '♗', '♘', '♖']\n['♙', '♙', '♙', '⊡', '♙', '♙', '♙', '♙']\n['⊡', '⊡', '⊡', '⊡', '⊡', '⊡', '⊡', '⊡']\n['⊡', '⊡', '⊡', '♙', '⊡', '⊡', '⊡', '⊡']\n['⛝', '⊡', '♟︎', '⊡', '⊡', '⊡', '⊡', '⊡']\n['⊡', '⛝', '⊡', '⊡', '⊡', '⊡', '⊡', '⊡']\n['♟︎', '♟︎', '⛝', '♟︎', '♟︎', '♟︎', '♟︎', '♟︎']\n['♜', '♞', '♝', '♛', '♚', '♝', '♞', '♜']\n\n"
    },
    {
     "output_type": "execute_result",
     "data": {
      "text/plain": "'ongoing'"
     },
     "metadata": {},
     "execution_count": 110
    }
   ],
   "source": [
    "# look at the valid moves\n",
    "# of the queen\n",
    "board(queen_cord)"
   ]
  },
  {
   "cell_type": "code",
   "execution_count": 111,
   "metadata": {},
   "outputs": [
    {
     "output_type": "execute_result",
     "data": {
      "text/plain": "(0, 4)"
     },
     "metadata": {},
     "execution_count": 111
    }
   ],
   "source": [
    "# translate a chess coordinate\n",
    "# to the internal representation\n",
    "move_cord = \"a4\"\n",
    "move_cord = board.translate_cord(move_cord)\n",
    "move_cord"
   ]
  },
  {
   "cell_type": "code",
   "execution_count": 112,
   "metadata": {},
   "outputs": [
    {
     "output_type": "error",
     "ename": "IndexError",
     "evalue": "list index out of range",
     "traceback": [
      "\u001b[1;31m---------------------------------------------------------------------------\u001b[0m",
      "\u001b[1;31mIndexError\u001b[0m                                Traceback (most recent call last)",
      "\u001b[1;32m<ipython-input-112-6ba3379d4f39>\u001b[0m in \u001b[0;36m<module>\u001b[1;34m\u001b[0m\n\u001b[1;32m----> 1\u001b[1;33m \u001b[0mboard\u001b[0m\u001b[1;33m(\u001b[0m\u001b[0mqueen_cord\u001b[0m\u001b[1;33m,\u001b[0m \u001b[0mmove_cord\u001b[0m\u001b[1;33m)\u001b[0m\u001b[1;33m\u001b[0m\u001b[1;33m\u001b[0m\u001b[0m\n\u001b[0m",
      "\u001b[1;32mc:\\Users\\Louis\\GitHub\\chess\\pychess\\chess\\utils.py\u001b[0m in \u001b[0;36m__call__\u001b[1;34m(self, source_cord, target_cord)\u001b[0m\n\u001b[0;32m     99\u001b[0m \u001b[1;33m\u001b[0m\u001b[0m\n\u001b[0;32m    100\u001b[0m                 \u001b[1;32mif\u001b[0m \u001b[0mself\u001b[0m\u001b[1;33m.\u001b[0m\u001b[0mstatus\u001b[0m \u001b[1;33m==\u001b[0m \u001b[1;34m\"check\"\u001b[0m\u001b[1;33m:\u001b[0m\u001b[1;33m\u001b[0m\u001b[1;33m\u001b[0m\u001b[0m\n\u001b[1;32m--> 101\u001b[1;33m                     \u001b[0mmoves\u001b[0m \u001b[1;33m=\u001b[0m \u001b[0mself\u001b[0m\u001b[1;33m.\u001b[0m\u001b[0mget_player_moves\u001b[0m\u001b[1;33m(\u001b[0m\u001b[1;33m)\u001b[0m\u001b[1;33m\u001b[0m\u001b[1;33m\u001b[0m\u001b[0m\n\u001b[0m\u001b[0;32m    102\u001b[0m                     \u001b[1;32mif\u001b[0m \u001b[0many\u001b[0m\u001b[1;33m(\u001b[0m\u001b[0mmoves\u001b[0m\u001b[1;33m)\u001b[0m\u001b[1;33m:\u001b[0m\u001b[1;33m\u001b[0m\u001b[1;33m\u001b[0m\u001b[0m\n\u001b[0;32m    103\u001b[0m                         \u001b[0mself\u001b[0m\u001b[1;33m.\u001b[0m\u001b[0mstatus\u001b[0m \u001b[1;33m=\u001b[0m \u001b[1;34m\"ongoing\"\u001b[0m\u001b[1;33m\u001b[0m\u001b[1;33m\u001b[0m\u001b[0m\n",
      "\u001b[1;32mc:\\Users\\Louis\\GitHub\\chess\\pychess\\chess\\utils.py\u001b[0m in \u001b[0;36mget_player_moves\u001b[1;34m(self, player, board, with_pieces)\u001b[0m\n\u001b[0;32m    365\u001b[0m         \u001b[0mpieces\u001b[0m \u001b[1;33m=\u001b[0m \u001b[0mself\u001b[0m\u001b[1;33m.\u001b[0m\u001b[0mget_player_pieces\u001b[0m\u001b[1;33m(\u001b[0m\u001b[0mplayer\u001b[0m\u001b[1;33m=\u001b[0m\u001b[0mplayer\u001b[0m\u001b[1;33m,\u001b[0m \u001b[0mboard\u001b[0m\u001b[1;33m=\u001b[0m\u001b[0mboard\u001b[0m\u001b[1;33m)\u001b[0m\u001b[1;33m\u001b[0m\u001b[1;33m\u001b[0m\u001b[0m\n\u001b[0;32m    366\u001b[0m \u001b[1;33m\u001b[0m\u001b[0m\n\u001b[1;32m--> 367\u001b[1;33m         \u001b[0mmoves\u001b[0m \u001b[1;33m=\u001b[0m \u001b[1;33m[\u001b[0m\u001b[1;33m]\u001b[0m\u001b[1;33m\u001b[0m\u001b[1;33m\u001b[0m\u001b[0m\n\u001b[0m\u001b[0;32m    368\u001b[0m         \u001b[1;32mfor\u001b[0m \u001b[0mpiece\u001b[0m \u001b[1;32min\u001b[0m \u001b[0mpieces\u001b[0m\u001b[1;33m:\u001b[0m\u001b[1;33m\u001b[0m\u001b[1;33m\u001b[0m\u001b[0m\n\u001b[0;32m    369\u001b[0m             \u001b[0mpiece_moves\u001b[0m \u001b[1;33m=\u001b[0m \u001b[0mself\u001b[0m\u001b[1;33m.\u001b[0m\u001b[0mget_piece_moves\u001b[0m\u001b[1;33m(\u001b[0m\u001b[0mpiece\u001b[0m\u001b[1;33m,\u001b[0m \u001b[0mpiece\u001b[0m\u001b[1;33m.\u001b[0m\u001b[0mget_cord\u001b[0m\u001b[1;33m(\u001b[0m\u001b[1;33m)\u001b[0m\u001b[1;33m)\u001b[0m\u001b[1;33m\u001b[0m\u001b[1;33m\u001b[0m\u001b[0m\n",
      "\u001b[1;32mc:\\Users\\Louis\\GitHub\\chess\\pychess\\chess\\utils.py\u001b[0m in \u001b[0;36mget_piece_moves\u001b[1;34m(self, piece, piece_cord, board)\u001b[0m\n\u001b[0;32m    281\u001b[0m                 \u001b[1;32mfor\u001b[0m \u001b[0mmove\u001b[0m \u001b[1;32min\u001b[0m \u001b[0mvalid_piece_moves\u001b[0m\u001b[1;33m:\u001b[0m\u001b[1;33m\u001b[0m\u001b[1;33m\u001b[0m\u001b[0m\n\u001b[0;32m    282\u001b[0m                     \u001b[0mprint\u001b[0m\u001b[1;33m(\u001b[0m\u001b[0mtype\u001b[0m\u001b[1;33m(\u001b[0m\u001b[0mmove\u001b[0m\u001b[1;33m)\u001b[0m\u001b[1;33m)\u001b[0m\u001b[1;33m\u001b[0m\u001b[1;33m\u001b[0m\u001b[0m\n\u001b[1;32m--> 283\u001b[1;33m \u001b[1;33m\u001b[0m\u001b[0m\n\u001b[0m\u001b[0;32m    284\u001b[0m                     \u001b[0mx\u001b[0m\u001b[1;33m,\u001b[0m \u001b[0my\u001b[0m \u001b[1;33m=\u001b[0m \u001b[0mmove\u001b[0m\u001b[1;33m\u001b[0m\u001b[1;33m\u001b[0m\u001b[0m\n\u001b[0;32m    285\u001b[0m                     \u001b[1;32mif\u001b[0m \u001b[1;32mnot\u001b[0m \u001b[0mboard\u001b[0m\u001b[1;33m[\u001b[0m\u001b[0my\u001b[0m\u001b[1;33m]\u001b[0m\u001b[1;33m[\u001b[0m\u001b[0mx\u001b[0m\u001b[1;33m]\u001b[0m\u001b[1;33m.\u001b[0m\u001b[0mis_attacked\u001b[0m\u001b[1;33m(\u001b[0m\u001b[1;33m)\u001b[0m\u001b[1;33m:\u001b[0m\u001b[1;33m\u001b[0m\u001b[1;33m\u001b[0m\u001b[0m\n",
      "\u001b[1;31mIndexError\u001b[0m: list index out of range"
     ]
    }
   ],
   "source": [
    "board(queen_cord, move_cord)"
   ]
  },
  {
   "cell_type": "code",
   "execution_count": null,
   "metadata": {},
   "outputs": [],
   "source": []
  }
 ],
 "metadata": {
  "language_info": {
   "codemirror_mode": {
    "name": "ipython",
    "version": 3
   },
   "file_extension": ".py",
   "mimetype": "text/x-python",
   "name": "python",
   "nbconvert_exporter": "python",
   "pygments_lexer": "ipython3",
   "version": 3
  },
  "orig_nbformat": 2,
  "kernelspec": {
   "name": "python_defaultSpec_1594062563683",
   "display_name": "Python 3.7.4 64-bit ('base': conda)"
  }
 },
 "nbformat": 4,
 "nbformat_minor": 2
}