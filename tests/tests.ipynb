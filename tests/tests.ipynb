{
 "cells": [
  {
   "cell_type": "code",
   "execution_count": 1,
   "metadata": {},
   "outputs": [],
   "source": [
    "from chepy.utils import Board"
   ]
  },
  {
   "cell_type": "code",
   "execution_count": 2,
   "metadata": {
    "tags": []
   },
   "outputs": [],
   "source": [
    "board = Board()"
   ]
  },
  {
   "cell_type": "code",
   "execution_count": 3,
   "metadata": {
    "tags": []
   },
   "outputs": [
    {
     "output_type": "stream",
     "name": "stdout",
     "text": "['♜', '♞', '♝', '♛', '♚', '♝', '♞', '♜']\n['♟︎', '♟︎', '♟︎', '♟︎', '♟︎', '♟︎', '♟︎', '♟︎']\n['%', '%', '%', '%', '%', '%', '%', '%']\n['⊡', '⊡', '⊡', '⊡', '⊡', '⊡', '⊡', '⊡']\n['⊡', '⊡', '⊡', '⊡', '⊡', '⊡', '⊡', '⊡']\n['⊡', '⊡', '⊡', '⊡', '⊡', '⊡', '⊡', '⊡']\n['♙', '♙', '♙', '♙', '♙', '♙', '♙', '♙']\n['♖', '♘', '♗', '♕', '♔', '♗', '♘', '♖']\n\n"
    }
   ],
   "source": [
    "board.print(show_attacked=True)"
   ]
  },
  {
   "cell_type": "code",
   "execution_count": 4,
   "metadata": {
    "tags": []
   },
   "outputs": [
    {
     "output_type": "stream",
     "name": "stdout",
     "text": "Source: ♙\nSource moves: [(2, 5), (2, 4)]\n['♜', '♞', '♝', '♛', '♚', '♝', '♞', '♜']\n['♟︎', '♟︎', '♟︎', '♟︎', '♟︎', '♟︎', '♟︎', '♟︎']\n['⊡', '⊡', '⊡', '⊡', '⊡', '⊡', '⊡', '⊡']\n['⊡', '⊡', '⊡', '⊡', '⊡', '⊡', '⊡', '⊡']\n['⊡', '⊡', '⛝', '⊡', '⊡', '⊡', '⊡', '⊡']\n['⊡', '⊡', '⛝', '⊡', '⊡', '⊡', '⊡', '⊡']\n['♙', '♙', '♙', '♙', '♙', '♙', '♙', '♙']\n['♖', '♘', '♗', '♕', '♔', '♗', '♘', '♖']\n\n"
    },
    {
     "output_type": "execute_result",
     "data": {
      "text/plain": "'ongoing'"
     },
     "metadata": {},
     "execution_count": 4
    }
   ],
   "source": [
    "# translate a chess coordinate\n",
    "# to the internal representation\n",
    "pawn_cord = \"c2\"\n",
    "# look at the valid moves\n",
    "# of the pawn\n",
    "board(pawn_cord)"
   ]
  },
  {
   "cell_type": "code",
   "execution_count": 5,
   "metadata": {
    "tags": []
   },
   "outputs": [
    {
     "output_type": "stream",
     "name": "stdout",
     "text": "Source: ♕\nSource moves: []\n['♜', '♞', '♝', '♛', '♚', '♝', '♞', '♜']\n['♟︎', '♟︎', '♟︎', '♟︎', '♟︎', '♟︎', '♟︎', '♟︎']\n['⊡', '⊡', '⊡', '⊡', '⊡', '⊡', '⊡', '⊡']\n['⊡', '⊡', '⊡', '⊡', '⊡', '⊡', '⊡', '⊡']\n['⊡', '⊡', '⊡', '⊡', '⊡', '⊡', '⊡', '⊡']\n['⊡', '⊡', '⊡', '⊡', '⊡', '⊡', '⊡', '⊡']\n['♙', '♙', '♙', '♙', '♙', '♙', '♙', '♙']\n['♖', '♘', '♗', '♕', '♔', '♗', '♘', '♖']\n\n"
    },
    {
     "output_type": "execute_result",
     "data": {
      "text/plain": "'ongoing'"
     },
     "metadata": {},
     "execution_count": 5
    }
   ],
   "source": [
    "# check if queen can move\n",
    "# (she should not)\n",
    "queen_cord = \"d1\"\n",
    "board(queen_cord)"
   ]
  },
  {
   "cell_type": "code",
   "execution_count": 6,
   "metadata": {
    "tags": []
   },
   "outputs": [
    {
     "output_type": "stream",
     "name": "stdout",
     "text": "Source: ♙   Target: ⊡\nSource moves: [(2, 5), (2, 4)] \nCompanion moves: []\n\n['♜', '♞', '♝', '♛', '♚', '♝', '♞', '♜']\n['♟︎', '♟︎', '♟︎', '♟︎', '♟︎', '♟︎', '♟︎', '♟︎']\n['⊡', '⊡', '⊡', '⊡', '⊡', '⊡', '⊡', '⊡']\n['⊡', '⊡', '⊡', '⊡', '⊡', '⊡', '⊡', '⊡']\n['⊡', '⊡', '♙', '⊡', '⊡', '⊡', '⊡', '⊡']\n['⊡', '⊡', '⊡', '⊡', '⊡', '⊡', '⊡', '⊡']\n['♙', '♙', '⊡', '♙', '♙', '♙', '♙', '♙']\n['♖', '♘', '♗', '♕', '♔', '♗', '♘', '♖']\n\n"
    },
    {
     "output_type": "execute_result",
     "data": {
      "text/plain": "'ongoing'"
     },
     "metadata": {},
     "execution_count": 6
    }
   ],
   "source": [
    "# move the pawn\n",
    "move_cord = \"c4\"\n",
    "board(pawn_cord, move_cord)"
   ]
  },
  {
   "cell_type": "code",
   "execution_count": 7,
   "metadata": {
    "tags": []
   },
   "outputs": [
    {
     "output_type": "stream",
     "name": "stdout",
     "text": "['♜', '♞', '♝', '♛', '♚', '♝', '♞', '♜']\n['♟︎', '♟︎', '♟︎', '♟︎', '♟︎', '♟︎', '♟︎', '♟︎']\n['⊡', '⊡', '⊡', '⊡', '⊡', '⊡', '⊡', '⊡']\n['⊡', '%', '⊡', '%', '⊡', '⊡', '⊡', '⊡']\n['%', '⊡', '♙', '⊡', '⊡', '⊡', '⊡', '⊡']\n['%', '%', '%', '%', '%', '%', '%', '%']\n['♙', '♙', '%', '♙', '♙', '♙', '♙', '♙']\n['♖', '♘', '♗', '♕', '♔', '♗', '♘', '♖']\n\n"
    }
   ],
   "source": [
    "board.print(show_attacked=True)"
   ]
  },
  {
   "cell_type": "code",
   "execution_count": 8,
   "metadata": {
    "tags": []
   },
   "outputs": [
    {
     "output_type": "stream",
     "name": "stdout",
     "text": "Source: ♚\nSource moves: []\n['♜', '♞', '♝', '♛', '♚', '♝', '♞', '♜']\n['♟︎', '♟︎', '♟︎', '♟︎', '♟︎', '♟︎', '♟︎', '♟︎']\n['⊡', '⊡', '⊡', '⊡', '⊡', '⊡', '⊡', '⊡']\n['⊡', '⊡', '⊡', '⊡', '⊡', '⊡', '⊡', '⊡']\n['⊡', '⊡', '♙', '⊡', '⊡', '⊡', '⊡', '⊡']\n['⊡', '⊡', '⊡', '⊡', '⊡', '⊡', '⊡', '⊡']\n['♙', '♙', '⊡', '♙', '♙', '♙', '♙', '♙']\n['♖', '♘', '♗', '♕', '♔', '♗', '♘', '♖']\n\n"
    },
    {
     "output_type": "execute_result",
     "data": {
      "text/plain": "'ongoing'"
     },
     "metadata": {},
     "execution_count": 8
    }
   ],
   "source": [
    "king_cord = \"e8\"\n",
    "board(king_cord)"
   ]
  },
  {
   "cell_type": "code",
   "execution_count": 9,
   "metadata": {
    "tags": []
   },
   "outputs": [
    {
     "output_type": "stream",
     "name": "stdout",
     "text": "Source: ♟︎\nSource moves: [(3, 2), (3, 3)]\n['♜', '♞', '♝', '♛', '♚', '♝', '♞', '♜']\n['♟︎', '♟︎', '♟︎', '♟︎', '♟︎', '♟︎', '♟︎', '♟︎']\n['⊡', '⊡', '⊡', '⛝', '⊡', '⊡', '⊡', '⊡']\n['⊡', '⊡', '⊡', '⛝', '⊡', '⊡', '⊡', '⊡']\n['⊡', '⊡', '♙', '⊡', '⊡', '⊡', '⊡', '⊡']\n['⊡', '⊡', '⊡', '⊡', '⊡', '⊡', '⊡', '⊡']\n['♙', '♙', '⊡', '♙', '♙', '♙', '♙', '♙']\n['♖', '♘', '♗', '♕', '♔', '♗', '♘', '♖']\n\n"
    },
    {
     "output_type": "execute_result",
     "data": {
      "text/plain": "'ongoing'"
     },
     "metadata": {},
     "execution_count": 9
    }
   ],
   "source": [
    "# select the black pawn\n",
    "pawn_cord = \"d7\"\n",
    "board(pawn_cord)"
   ]
  },
  {
   "cell_type": "code",
   "execution_count": 10,
   "metadata": {
    "tags": []
   },
   "outputs": [
    {
     "output_type": "stream",
     "name": "stdout",
     "text": "Source: ♟︎   Target: ⊡\nSource moves: [(3, 2), (3, 3)] \nCompanion moves: []\n\n['♜', '♞', '♝', '♛', '♚', '♝', '♞', '♜']\n['♟︎', '♟︎', '♟︎', '⊡', '♟︎', '♟︎', '♟︎', '♟︎']\n['⊡', '⊡', '⊡', '⊡', '⊡', '⊡', '⊡', '⊡']\n['⊡', '⊡', '⊡', '♟︎', '⊡', '⊡', '⊡', '⊡']\n['⊡', '⊡', '♙', '⊡', '⊡', '⊡', '⊡', '⊡']\n['⊡', '⊡', '⊡', '⊡', '⊡', '⊡', '⊡', '⊡']\n['♙', '♙', '⊡', '♙', '♙', '♙', '♙', '♙']\n['♖', '♘', '♗', '♕', '♔', '♗', '♘', '♖']\n\n"
    },
    {
     "output_type": "execute_result",
     "data": {
      "text/plain": "'ongoing'"
     },
     "metadata": {},
     "execution_count": 10
    }
   ],
   "source": [
    "# move the pawn\n",
    "# (open the king for a check)\n",
    "move_cord = \"d5\"\n",
    "board(pawn_cord, move_cord)"
   ]
  },
  {
   "cell_type": "code",
   "execution_count": 11,
   "metadata": {
    "tags": []
   },
   "outputs": [
    {
     "output_type": "stream",
     "name": "stdout",
     "text": "Source: ♕\nSource moves: [(2, 6), (1, 5), (0, 4)]\n['♜', '♞', '♝', '♛', '♚', '♝', '♞', '♜']\n['♟︎', '♟︎', '♟︎', '⊡', '♟︎', '♟︎', '♟︎', '♟︎']\n['⊡', '⊡', '⊡', '⊡', '⊡', '⊡', '⊡', '⊡']\n['⊡', '⊡', '⊡', '♟︎', '⊡', '⊡', '⊡', '⊡']\n['⛝', '⊡', '♙', '⊡', '⊡', '⊡', '⊡', '⊡']\n['⊡', '⛝', '⊡', '⊡', '⊡', '⊡', '⊡', '⊡']\n['♙', '♙', '⛝', '♙', '♙', '♙', '♙', '♙']\n['♖', '♘', '♗', '♕', '♔', '♗', '♘', '♖']\n\n"
    },
    {
     "output_type": "execute_result",
     "data": {
      "text/plain": "'ongoing'"
     },
     "metadata": {},
     "execution_count": 11
    }
   ],
   "source": [
    "# look at the valid moves of the queen\n",
    "# (now there should be some)\n",
    "board(queen_cord)"
   ]
  },
  {
   "cell_type": "code",
   "execution_count": 12,
   "metadata": {
    "tags": []
   },
   "outputs": [
    {
     "output_type": "stream",
     "name": "stdout",
     "text": "Source: ♕   Target: ⊡\nSource moves: [(2, 6), (1, 5), (0, 4)] \nCompanion moves: []\n\n['♜', '♞', '♝', '♛', '♚', '♝', '♞', '♜']\n['♟︎', '♟︎', '♟︎', '⊡', '♟︎', '♟︎', '♟︎', '♟︎']\n['⊡', '⊡', '⊡', '⊡', '⊡', '⊡', '⊡', '⊡']\n['⊡', '⊡', '⊡', '♟︎', '⊡', '⊡', '⊡', '⊡']\n['♕', '⊡', '♙', '⊡', '⊡', '⊡', '⊡', '⊡']\n['⊡', '⊡', '⊡', '⊡', '⊡', '⊡', '⊡', '⊡']\n['♙', '♙', '⊡', '♙', '♙', '♙', '♙', '♙']\n['♖', '♘', '♗', '⊡', '♔', '♗', '♘', '♖']\n\n"
    },
    {
     "output_type": "execute_result",
     "data": {
      "text/plain": "'check'"
     },
     "metadata": {},
     "execution_count": 12
    }
   ],
   "source": [
    "# move the queen\n",
    "# and check the black king\n",
    "move_cord = \"a4\"\n",
    "board(queen_cord, move_cord)"
   ]
  },
  {
   "cell_type": "code",
   "execution_count": 13,
   "metadata": {
    "tags": []
   },
   "outputs": [
    {
     "output_type": "stream",
     "name": "stdout",
     "text": "['♜', '♞', '♝', '♛', '♚', '♝', '♞', '♜']\n['♟︎', '♟︎', '♟︎', '⊡', '♟︎', '♟︎', '♟︎', '♟︎']\n['⊡', '⊡', '⊡', '⊡', '⊡', '⊡', '⊡', '⊡']\n['⊡', '⊡', '⊡', '♟︎', '⊡', '⊡', '⊡', '⊡']\n['♕', '⊡', '♙', '⊡', '⊡', '⊡', '⊡', '⊡']\n['⊡', '⊡', '⊡', '⊡', '⊡', '⊡', '⊡', '⊡']\n['♙', '♙', '⊡', '♙', '♙', '♙', '♙', '♙']\n['♖', '♘', '♗', '⊡', '♔', '♗', '♘', '♖']\n\n"
    }
   ],
   "source": [
    "board.print()"
   ]
  },
  {
   "cell_type": "code",
   "execution_count": 14,
   "metadata": {},
   "outputs": [
    {
     "output_type": "execute_result",
     "data": {
      "text/plain": "[(3, 1)]"
     },
     "metadata": {},
     "execution_count": 14
    }
   ],
   "source": [
    "# list all of blacks moves\n",
    "board.get_player_moves()"
   ]
  },
  {
   "cell_type": "code",
   "execution_count": 15,
   "metadata": {
    "tags": []
   },
   "outputs": [
    {
     "output_type": "stream",
     "name": "stdout",
     "text": "['♜', '♞', '♝', '♛', '♚', '♝', '♞', '♜']\n['♟︎', '♟︎', '♟︎', '⊡', '♟︎', '♟︎', '♟︎', '♟︎']\n['⊡', '⊡', '⊡', '⊡', '⊡', '⊡', '⊡', '⊡']\n['⊡', '⊡', '⊡', '♟︎', '⊡', '⊡', '⊡', '⊡']\n['♕', '⊡', '⊡', '⊡', '⊡', '⊡', '⊡', '⊡']\n['⊡', '⊡', '⊡', '⊡', '⊡', '⊡', '⊡', '⊡']\n['♙', '♙', '⊡', '♙', '♙', '♙', '♙', '♙']\n['♖', '♘', '♗', '⊡', '♔', '♗', '♘', '♖']\n\n"
    }
   ],
   "source": [
    "board.print()"
   ]
  },
  {
   "cell_type": "code",
   "execution_count": 16,
   "metadata": {
    "tags": []
   },
   "outputs": [
    {
     "output_type": "stream",
     "name": "stdout",
     "text": "['♜', '♞', '♝', '♛', '⛝', '♝', '♞', '♜']\n['⛝', '♟︎', '♟︎', '⛝', '♟︎', '♟︎', '♟︎', '♟︎']\n['⛝', '⊡', '⛝', '⊡', '⊡', '⊡', '⊡', '⊡']\n['⛝', '⛝', '⊡', '♟︎', '⊡', '⊡', '⊡', '⊡']\n['♕', '⛝', '⛝', '⛝', '⛝', '⛝', '⛝', '⛝']\n['⛝', '⛝', '⛝', '⛝', '⛝', '⛝', '⛝', '⛝']\n['♙', '♙', '⛝', '♙', '♙', '♙', '♙', '♙']\n['♖', '♘', '♗', '⛝', '♔', '♗', '♘', '♖']\n\n"
    }
   ],
   "source": [
    "board.print(squares=board.get_attacked_squares())"
   ]
  },
  {
   "cell_type": "code",
   "execution_count": 17,
   "metadata": {
    "tags": []
   },
   "outputs": [
    {
     "output_type": "stream",
     "name": "stdout",
     "text": "Source: ♚\nSource moves: [(3, 1)]\n['♜', '♞', '♝', '♛', '♚', '♝', '♞', '♜']\n['♟︎', '♟︎', '♟︎', '⛝', '♟︎', '♟︎', '♟︎', '♟︎']\n['⊡', '⊡', '⊡', '⊡', '⊡', '⊡', '⊡', '⊡']\n['⊡', '⊡', '⊡', '♟︎', '⊡', '⊡', '⊡', '⊡']\n['♕', '⊡', '⊡', '⊡', '⊡', '⊡', '⊡', '⊡']\n['⊡', '⊡', '⊡', '⊡', '⊡', '⊡', '⊡', '⊡']\n['♙', '♙', '⊡', '♙', '♙', '♙', '♙', '♙']\n['♖', '♘', '♗', '⊡', '♔', '♗', '♘', '♖']\n\n"
    },
    {
     "output_type": "execute_result",
     "data": {
      "text/plain": "'check'"
     },
     "metadata": {},
     "execution_count": 17
    }
   ],
   "source": [
    "# check if the king can move\n",
    "king_cord = \"e8\"\n",
    "board(king_cord)"
   ]
  },
  {
   "cell_type": "code",
   "execution_count": 18,
   "metadata": {
    "tags": []
   },
   "outputs": [
    {
     "output_type": "stream",
     "name": "stdout",
     "text": "Source: ♛\nSource moves: []\n['♜', '♞', '♝', '♛', '♚', '♝', '♞', '♜']\n['♟︎', '♟︎', '♟︎', '⊡', '♟︎', '♟︎', '♟︎', '♟︎']\n['⊡', '⊡', '⊡', '⊡', '⊡', '⊡', '⊡', '⊡']\n['⊡', '⊡', '⊡', '♟︎', '⊡', '⊡', '⊡', '⊡']\n['♕', '⊡', '⊡', '⊡', '⊡', '⊡', '⊡', '⊡']\n['⊡', '⊡', '⊡', '⊡', '⊡', '⊡', '⊡', '⊡']\n['♙', '♙', '⊡', '♙', '♙', '♙', '♙', '♙']\n['♖', '♘', '♗', '⊡', '♔', '♗', '♘', '♖']\n\n"
    },
    {
     "output_type": "execute_result",
     "data": {
      "text/plain": "'check'"
     },
     "metadata": {},
     "execution_count": 18
    }
   ],
   "source": [
    "# check if the queen can move\n",
    "queen_cord = \"d8\"\n",
    "board(queen_cord)"
   ]
  },
  {
   "cell_type": "code",
   "execution_count": 19,
   "metadata": {
    "tags": []
   },
   "outputs": [
    {
     "output_type": "stream",
     "name": "stdout",
     "text": "Source: ♝\nSource moves: []\n['♜', '♞', '♝', '♛', '♚', '♝', '♞', '♜']\n['♟︎', '♟︎', '♟︎', '⊡', '♟︎', '♟︎', '♟︎', '♟︎']\n['⊡', '⊡', '⊡', '⊡', '⊡', '⊡', '⊡', '⊡']\n['⊡', '⊡', '⊡', '♟︎', '⊡', '⊡', '⊡', '⊡']\n['♕', '⊡', '⊡', '⊡', '⊡', '⊡', '⊡', '⊡']\n['⊡', '⊡', '⊡', '⊡', '⊡', '⊡', '⊡', '⊡']\n['♙', '♙', '⊡', '♙', '♙', '♙', '♙', '♙']\n['♖', '♘', '♗', '⊡', '♔', '♗', '♘', '♖']\n\n"
    },
    {
     "output_type": "execute_result",
     "data": {
      "text/plain": "'check'"
     },
     "metadata": {},
     "execution_count": 19
    }
   ],
   "source": [
    "# check if the king can move\n",
    "bishop_cord = \"c8\"\n",
    "board(bishop_cord)"
   ]
  },
  {
   "cell_type": "code",
   "execution_count": null,
   "metadata": {},
   "outputs": [],
   "source": []
  }
 ],
 "metadata": {
  "language_info": {
   "codemirror_mode": {
    "name": "ipython",
    "version": 3
   },
   "file_extension": ".py",
   "mimetype": "text/x-python",
   "name": "python",
   "nbconvert_exporter": "python",
   "pygments_lexer": "ipython3",
   "version": 3
  },
  "orig_nbformat": 2,
  "kernelspec": {
   "name": "python_defaultSpec_1594226460403",
   "display_name": "Python 3.7.4 64-bit ('base': conda)"
  }
 },
 "nbformat": 4,
 "nbformat_minor": 2
}